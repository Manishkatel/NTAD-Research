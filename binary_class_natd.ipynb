{
 "cells": [
  {
   "cell_type": "code",
   "execution_count": 1,
   "id": "c76ef392-8d45-45dd-a6a5-3079896e54fc",
   "metadata": {},
   "outputs": [
    {
     "name": "stdout",
     "output_type": "stream",
     "text": [
      "3.3.2\n"
     ]
    }
   ],
   "source": [
    "import pycaret\n",
    "print(pycaret.__version__) "
   ]
  },
  {
   "cell_type": "code",
   "execution_count": 2,
   "id": "fc66daa2-7378-46a2-91de-663bf72a941d",
   "metadata": {},
   "outputs": [],
   "source": [
    "import numpy as np\n",
    "SEED = 7\n",
    "np.random.seed(SEED) "
   ]
  },
  {
   "cell_type": "code",
   "execution_count": 3,
   "id": "a20efc5c-98b6-4b90-b124-aaa5d70a4b5d",
   "metadata": {},
   "outputs": [],
   "source": [
    "import warnings\n",
    "warnings.filterwarnings(\"ignore\") "
   ]
  },
  {
   "cell_type": "code",
   "execution_count": 4,
   "id": "c7f42b43-890b-45f7-b505-6938793db987",
   "metadata": {},
   "outputs": [
    {
     "name": "stdout",
     "output_type": "stream",
     "text": [
      "(15000, 36)\n"
     ]
    },
    {
     "data": {
      "text/html": [
       "<div>\n",
       "<style scoped>\n",
       "    .dataframe tbody tr th:only-of-type {\n",
       "        vertical-align: middle;\n",
       "    }\n",
       "\n",
       "    .dataframe tbody tr th {\n",
       "        vertical-align: top;\n",
       "    }\n",
       "\n",
       "    .dataframe thead th {\n",
       "        text-align: right;\n",
       "    }\n",
       "</style>\n",
       "<table border=\"1\" class=\"dataframe\">\n",
       "  <thead>\n",
       "    <tr style=\"text-align: right;\">\n",
       "      <th></th>\n",
       "      <th>PC1</th>\n",
       "      <th>PC2</th>\n",
       "      <th>PC3</th>\n",
       "      <th>PC4</th>\n",
       "      <th>PC5</th>\n",
       "      <th>PC6</th>\n",
       "      <th>PC7</th>\n",
       "      <th>PC8</th>\n",
       "      <th>PC9</th>\n",
       "      <th>PC10</th>\n",
       "      <th>...</th>\n",
       "      <th>PC27</th>\n",
       "      <th>PC28</th>\n",
       "      <th>PC29</th>\n",
       "      <th>PC30</th>\n",
       "      <th>PC31</th>\n",
       "      <th>PC32</th>\n",
       "      <th>PC33</th>\n",
       "      <th>PC34</th>\n",
       "      <th>PC35</th>\n",
       "      <th>attack type</th>\n",
       "    </tr>\n",
       "  </thead>\n",
       "  <tbody>\n",
       "    <tr>\n",
       "      <th>0</th>\n",
       "      <td>9.358975</td>\n",
       "      <td>-0.305021</td>\n",
       "      <td>-1.573795</td>\n",
       "      <td>-2.337903</td>\n",
       "      <td>2.164631</td>\n",
       "      <td>-0.448710</td>\n",
       "      <td>-0.095588</td>\n",
       "      <td>-0.999269</td>\n",
       "      <td>0.531986</td>\n",
       "      <td>1.180831</td>\n",
       "      <td>...</td>\n",
       "      <td>0.002886</td>\n",
       "      <td>-0.206970</td>\n",
       "      <td>0.061554</td>\n",
       "      <td>0.263916</td>\n",
       "      <td>0.498915</td>\n",
       "      <td>-0.060638</td>\n",
       "      <td>0.000622</td>\n",
       "      <td>-0.618587</td>\n",
       "      <td>0.151135</td>\n",
       "      <td>1</td>\n",
       "    </tr>\n",
       "    <tr>\n",
       "      <th>1</th>\n",
       "      <td>6.377827</td>\n",
       "      <td>-0.747452</td>\n",
       "      <td>4.507055</td>\n",
       "      <td>-0.135987</td>\n",
       "      <td>2.131633</td>\n",
       "      <td>0.543314</td>\n",
       "      <td>-0.148042</td>\n",
       "      <td>-3.242425</td>\n",
       "      <td>-0.612370</td>\n",
       "      <td>1.597544</td>\n",
       "      <td>...</td>\n",
       "      <td>1.214270</td>\n",
       "      <td>0.811346</td>\n",
       "      <td>0.428905</td>\n",
       "      <td>0.354355</td>\n",
       "      <td>0.425527</td>\n",
       "      <td>-0.047228</td>\n",
       "      <td>-0.002988</td>\n",
       "      <td>1.103984</td>\n",
       "      <td>-0.203426</td>\n",
       "      <td>1</td>\n",
       "    </tr>\n",
       "    <tr>\n",
       "      <th>2</th>\n",
       "      <td>-1.989040</td>\n",
       "      <td>-0.039763</td>\n",
       "      <td>0.196994</td>\n",
       "      <td>-0.669131</td>\n",
       "      <td>-1.244578</td>\n",
       "      <td>-0.916119</td>\n",
       "      <td>-0.069794</td>\n",
       "      <td>-0.626994</td>\n",
       "      <td>0.842700</td>\n",
       "      <td>-0.256847</td>\n",
       "      <td>...</td>\n",
       "      <td>0.035178</td>\n",
       "      <td>-0.006665</td>\n",
       "      <td>-0.042091</td>\n",
       "      <td>0.041809</td>\n",
       "      <td>0.021472</td>\n",
       "      <td>-0.001749</td>\n",
       "      <td>0.000467</td>\n",
       "      <td>-0.009116</td>\n",
       "      <td>-0.010473</td>\n",
       "      <td>0</td>\n",
       "    </tr>\n",
       "    <tr>\n",
       "      <th>3</th>\n",
       "      <td>9.316547</td>\n",
       "      <td>0.566182</td>\n",
       "      <td>1.136256</td>\n",
       "      <td>13.518495</td>\n",
       "      <td>-0.055885</td>\n",
       "      <td>-5.669852</td>\n",
       "      <td>-0.127834</td>\n",
       "      <td>-3.038099</td>\n",
       "      <td>-2.264454</td>\n",
       "      <td>2.124777</td>\n",
       "      <td>...</td>\n",
       "      <td>-0.267683</td>\n",
       "      <td>0.012553</td>\n",
       "      <td>0.412491</td>\n",
       "      <td>-0.305303</td>\n",
       "      <td>-0.732627</td>\n",
       "      <td>-0.001900</td>\n",
       "      <td>-0.001185</td>\n",
       "      <td>-0.498448</td>\n",
       "      <td>0.480757</td>\n",
       "      <td>0</td>\n",
       "    </tr>\n",
       "    <tr>\n",
       "      <th>4</th>\n",
       "      <td>-2.000448</td>\n",
       "      <td>-0.039795</td>\n",
       "      <td>0.208647</td>\n",
       "      <td>-0.598662</td>\n",
       "      <td>-1.022022</td>\n",
       "      <td>-0.650070</td>\n",
       "      <td>-0.050272</td>\n",
       "      <td>-0.544500</td>\n",
       "      <td>0.528242</td>\n",
       "      <td>-0.183290</td>\n",
       "      <td>...</td>\n",
       "      <td>-0.047342</td>\n",
       "      <td>-0.132341</td>\n",
       "      <td>-0.132318</td>\n",
       "      <td>0.199306</td>\n",
       "      <td>-0.069502</td>\n",
       "      <td>-0.001290</td>\n",
       "      <td>0.001431</td>\n",
       "      <td>-0.008187</td>\n",
       "      <td>-0.003693</td>\n",
       "      <td>0</td>\n",
       "    </tr>\n",
       "  </tbody>\n",
       "</table>\n",
       "<p>5 rows × 36 columns</p>\n",
       "</div>"
      ],
      "text/plain": [
       "        PC1       PC2       PC3        PC4       PC5       PC6       PC7  \\\n",
       "0  9.358975 -0.305021 -1.573795  -2.337903  2.164631 -0.448710 -0.095588   \n",
       "1  6.377827 -0.747452  4.507055  -0.135987  2.131633  0.543314 -0.148042   \n",
       "2 -1.989040 -0.039763  0.196994  -0.669131 -1.244578 -0.916119 -0.069794   \n",
       "3  9.316547  0.566182  1.136256  13.518495 -0.055885 -5.669852 -0.127834   \n",
       "4 -2.000448 -0.039795  0.208647  -0.598662 -1.022022 -0.650070 -0.050272   \n",
       "\n",
       "        PC8       PC9      PC10  ...      PC27      PC28      PC29      PC30  \\\n",
       "0 -0.999269  0.531986  1.180831  ...  0.002886 -0.206970  0.061554  0.263916   \n",
       "1 -3.242425 -0.612370  1.597544  ...  1.214270  0.811346  0.428905  0.354355   \n",
       "2 -0.626994  0.842700 -0.256847  ...  0.035178 -0.006665 -0.042091  0.041809   \n",
       "3 -3.038099 -2.264454  2.124777  ... -0.267683  0.012553  0.412491 -0.305303   \n",
       "4 -0.544500  0.528242 -0.183290  ... -0.047342 -0.132341 -0.132318  0.199306   \n",
       "\n",
       "       PC31      PC32      PC33      PC34      PC35  attack type  \n",
       "0  0.498915 -0.060638  0.000622 -0.618587  0.151135            1  \n",
       "1  0.425527 -0.047228 -0.002988  1.103984 -0.203426            1  \n",
       "2  0.021472 -0.001749  0.000467 -0.009116 -0.010473            0  \n",
       "3 -0.732627 -0.001900 -0.001185 -0.498448  0.480757            0  \n",
       "4 -0.069502 -0.001290  0.001431 -0.008187 -0.003693            0  \n",
       "\n",
       "[5 rows x 36 columns]"
      ]
     },
     "execution_count": 4,
     "metadata": {},
     "output_type": "execute_result"
    }
   ],
   "source": [
    "import pandas as pd\n",
    "from pycaret.classification import *\n",
    "\n",
    "# Load your preprocessed dataset\n",
    "df = pd.read_csv(r\"C:\\Users\\manis\\Downloads\\preprocessed_dataset.csv\")\n",
    "\n",
    "# Target column\n",
    "target = 'attack type'\n",
    "\n",
    "# Show quick overview\n",
    "print(df.shape)\n",
    "df.head()   "
   ]
  },
  {
   "cell_type": "code",
   "execution_count": 5,
   "id": "a17010d4-8f78-4d62-af0a-b3af68991fc8",
   "metadata": {},
   "outputs": [],
   "source": [
    "# Try with updated parameters to avoid the ThreadLocalVariable error\n",
    "s = setup(\n",
    "    data=df,\n",
    "    target=target,\n",
    "    train_size=0.75,  \n",
    "    session_id=42,\n",
    "    log_experiment=False,\n",
    "    experiment_name=None,\n",
    "    log_plots=True,\n",
    "    use_gpu=False,\n",
    "    html=False,\n",
    "    # Add these parameters to help avoid the error\n",
    "    verbose=False,  # Reduce verbosity\n",
    "    n_jobs=1,      # Use all available cores\n",
    "    fold_strategy='stratifiedkfold'  # Specify fold strategy explicitly\n",
    ") "
   ]
  },
  {
   "cell_type": "code",
   "execution_count": 6,
   "id": "f3f77376-d4a3-449d-8541-b66d5ed0a360",
   "metadata": {},
   "outputs": [
    {
     "name": "stderr",
     "output_type": "stream",
     "text": [
      "                                                             "
     ]
    },
    {
     "name": "stdout",
     "output_type": "stream",
     "text": [
      "                                    Model  Accuracy     AUC  Recall   Prec.  \\\n",
      "xgboost         Extreme Gradient Boosting    0.9912  0.9991  0.9910  0.9915   \n",
      "lightgbm  Light Gradient Boosting Machine    0.9908  0.9991  0.9906  0.9912   \n",
      "catboost              CatBoost Classifier    0.9908  0.9990  0.9908  0.9908   \n",
      "rf               Random Forest Classifier    0.9908  0.9987  0.9894  0.9922   \n",
      "et                 Extra Trees Classifier    0.9904  0.9987  0.9892  0.9917   \n",
      "dt               Decision Tree Classifier    0.9817  0.9817  0.9862  0.9776   \n",
      "gbc          Gradient Boosting Classifier    0.9783  0.9970  0.9811  0.9760   \n",
      "knn                K Neighbors Classifier    0.9764  0.9919  0.9830  0.9703   \n",
      "mlp                        MLP Classifier    0.9737  0.9957  0.9809  0.9672   \n",
      "gpc           Gaussian Process Classifier    0.9662  0.9916  0.9830  0.9514   \n",
      "ada                  Ada Boost Classifier    0.9622  0.9934  0.9669  0.9584   \n",
      "rbfsvm                SVM - Radial Kernel    0.9532  0.9895  0.9673  0.9414   \n",
      "lr                    Logistic Regression    0.9245  0.9786  0.9611  0.8964   \n",
      "svm                   SVM - Linear Kernel    0.9181  0.9721  0.9326  0.9078   \n",
      "qda       Quadratic Discriminant Analysis    0.9075  0.9839  0.9675  0.8650   \n",
      "ridge                    Ridge Classifier    0.9007  0.9579  0.9526  0.8640   \n",
      "lda          Linear Discriminant Analysis    0.8917  0.9620  0.9569  0.8476   \n",
      "nb                            Naive Bayes    0.7912  0.9237  0.8943  0.7648   \n",
      "dummy                    Dummy Classifier    0.5027  0.5000  1.0000  0.5027   \n",
      "\n",
      "              F1   Kappa     MCC  TT (Sec)  \n",
      "xgboost   0.9912  0.9824  0.9824     0.538  \n",
      "lightgbm  0.9909  0.9817  0.9817     0.580  \n",
      "catboost  0.9908  0.9815  0.9815    22.254  \n",
      "rf        0.9908  0.9815  0.9815     3.798  \n",
      "et        0.9904  0.9808  0.9808     0.660  \n",
      "dt        0.9819  0.9634  0.9634     0.442  \n",
      "gbc       0.9785  0.9566  0.9567    11.852  \n",
      "knn       0.9766  0.9527  0.9528     0.270  \n",
      "mlp       0.9740  0.9474  0.9475    17.012  \n",
      "gpc       0.9670  0.9324  0.9330    90.704  \n",
      "ada       0.9626  0.9244  0.9245     2.572  \n",
      "rbfsvm    0.9541  0.9065  0.9069     3.622  \n",
      "lr        0.9276  0.8490  0.8513     0.102  \n",
      "svm       0.9197  0.8362  0.8372     0.066  \n",
      "qda       0.9133  0.8148  0.8209     0.064  \n",
      "ridge     0.9061  0.8013  0.8058     0.070  \n",
      "lda       0.8989  0.7833  0.7901     0.066  \n",
      "nb        0.8094  0.5819  0.6195     0.040  \n",
      "dummy     0.6690  0.0000  0.0000     0.042  \n"
     ]
    },
    {
     "name": "stderr",
     "output_type": "stream",
     "text": []
    }
   ],
   "source": [
    "best_model = compare_models(sort='F1', fold=5, turbo=False) "
   ]
  },
  {
   "cell_type": "code",
   "execution_count": 7,
   "id": "9f758531-eae8-40df-aed0-5565cba680af",
   "metadata": {},
   "outputs": [
    {
     "data": {
      "application/vnd.jupyter.widget-view+json": {
       "model_id": "62bdb6aa28cf46719f401d2111af264f",
       "version_major": 2,
       "version_minor": 0
      },
      "text/plain": [
       "interactive(children=(ToggleButtons(description='Plot Type:', icons=('',), options=(('Pipeline Plot', 'pipelin…"
      ]
     },
     "metadata": {},
     "output_type": "display_data"
    }
   ],
   "source": [
    "evaluate_model(best_model) "
   ]
  },
  {
   "cell_type": "code",
   "execution_count": 8,
   "id": "ee63e1f2-a45a-479d-8417-d5e7dcac940a",
   "metadata": {},
   "outputs": [
    {
     "name": "stdout",
     "output_type": "stream",
     "text": [
      "                       Model  Accuracy  AUC  Recall  Prec.   F1  Kappa  MCC\n",
      "0  Extreme Gradient Boosting       1.0  1.0     1.0    1.0  1.0    1.0  1.0\n"
     ]
    }
   ],
   "source": [
    "final_model = finalize_model(best_model)\n",
    "predictions = predict_model(final_model) "
   ]
  },
  {
   "cell_type": "code",
   "execution_count": 9,
   "id": "c19c61b0-65a9-4807-b91f-6795aa1fb456",
   "metadata": {},
   "outputs": [
    {
     "name": "stdout",
     "output_type": "stream",
     "text": [
      "Transformation Pipeline and Model Successfully Saved\n"
     ]
    },
    {
     "data": {
      "text/plain": [
       "(Pipeline(memory=Memory(location=None),\n",
       "          steps=[('numerical_imputer',\n",
       "                  TransformerWrapper(exclude=None,\n",
       "                                     include=['PC1', 'PC2', 'PC3', 'PC4', 'PC5',\n",
       "                                              'PC6', 'PC7', 'PC8', 'PC9', 'PC10',\n",
       "                                              'PC11', 'PC12', 'PC13', 'PC14',\n",
       "                                              'PC15', 'PC16', 'PC17', 'PC18',\n",
       "                                              'PC19', 'PC20', 'PC21', 'PC22',\n",
       "                                              'PC23', 'PC24', 'PC25', 'PC26',\n",
       "                                              'PC27', 'PC28', 'PC29', 'PC30', ...],\n",
       "                                     transformer=SimpleImputer(add_indicat...\n",
       "                                gamma=None, grow_policy=None,\n",
       "                                importance_type=None,\n",
       "                                interaction_constraints=None, learning_rate=None,\n",
       "                                max_bin=None, max_cat_threshold=None,\n",
       "                                max_cat_to_onehot=None, max_delta_step=None,\n",
       "                                max_depth=None, max_leaves=None,\n",
       "                                min_child_weight=None, missing=nan,\n",
       "                                monotone_constraints=None, multi_strategy=None,\n",
       "                                n_estimators=None, n_jobs=1,\n",
       "                                num_parallel_tree=None, ...))],\n",
       "          verbose=False),\n",
       " 'best_attack_type_model.pkl')"
      ]
     },
     "execution_count": 9,
     "metadata": {},
     "output_type": "execute_result"
    }
   ],
   "source": [
    "save_model(final_model, 'best_attack_type_model')"
   ]
  },
  {
   "cell_type": "code",
   "execution_count": null,
   "id": "98f5c8f8-04a5-4104-a95c-97463dbd0788",
   "metadata": {},
   "outputs": [],
   "source": []
  }
 ],
 "metadata": {
  "kernelspec": {
   "display_name": "PyCaret (env_pycaret)",
   "language": "python",
   "name": "env_pycaret"
  },
  "language_info": {
   "codemirror_mode": {
    "name": "ipython",
    "version": 3
   },
   "file_extension": ".py",
   "mimetype": "text/x-python",
   "name": "python",
   "nbconvert_exporter": "python",
   "pygments_lexer": "ipython3",
   "version": "3.10.18"
  }
 },
 "nbformat": 4,
 "nbformat_minor": 5
}
